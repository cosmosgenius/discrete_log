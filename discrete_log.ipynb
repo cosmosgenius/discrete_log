{
 "cells": [
  {
   "cell_type": "code",
   "execution_count": 1,
   "id": "e3a11101-7832-4abe-ae09-8e05c3305023",
   "metadata": {},
   "outputs": [],
   "source": [
    "import sympy"
   ]
  },
  {
   "cell_type": "code",
   "execution_count": 2,
   "id": "7884b6b7-ecc2-4acc-94a7-136912c560ab",
   "metadata": {},
   "outputs": [],
   "source": [
    "x, g, p, r = sympy.symbols(\"x g p r\")"
   ]
  },
  {
   "cell_type": "code",
   "execution_count": 3,
   "id": "d641f9b1-dfdc-4100-8c2a-dedb2d1437c2",
   "metadata": {},
   "outputs": [],
   "source": [
    "y = (g**x) % p"
   ]
  },
  {
   "cell_type": "code",
   "execution_count": 5,
   "id": "78700e64-b392-41bc-8c66-a7962441a0ce",
   "metadata": {},
   "outputs": [],
   "source": [
    "m = (x + r) % (p - 1)"
   ]
  },
  {
   "cell_type": "code",
   "execution_count": 9,
   "id": "208cfc00-2c55-4671-96cb-2b9604c3e383",
   "metadata": {},
   "outputs": [],
   "source": [
    "C = y.subs({x: r})"
   ]
  },
  {
   "cell_type": "code",
   "execution_count": 15,
   "id": "9940df4c-77b3-4487-806a-52a69aef64d1",
   "metadata": {},
   "outputs": [],
   "source": [
    "W = (C*y) % p"
   ]
  },
  {
   "cell_type": "code",
   "execution_count": 16,
   "id": "fbd7101a-0fcb-4817-ab22-9c1a3f359c3e",
   "metadata": {},
   "outputs": [],
   "source": [
    "V = (g**m) % p"
   ]
  },
  {
   "cell_type": "code",
   "execution_count": 20,
   "id": "e03ffba9-097e-45dd-b845-b993b7816969",
   "metadata": {},
   "outputs": [
    {
     "data": {
      "text/plain": [
       "(Mod(g**r, p),\n",
       " Mod(g**x, p),\n",
       " Mod((Mod(g**r, p))*(Mod(g**x, p)), p),\n",
       " Mod(g**(Mod(r + x, p - 1)), p))"
      ]
     },
     "execution_count": 20,
     "metadata": {},
     "output_type": "execute_result"
    }
   ],
   "source": [
    "C, y, W, V"
   ]
  },
  {
   "cell_type": "code",
   "execution_count": 30,
   "id": "06216c7c-283b-474e-bbbf-e8939c1de421",
   "metadata": {},
   "outputs": [
    {
     "data": {
      "text/latex": [
       "$\\displaystyle \\left[\\begin{matrix}9 & 13 & 2 & 2\\end{matrix}\\right]$"
      ],
      "text/plain": [
       "[9, 13, 2, 2]"
      ]
     },
     "execution_count": 30,
     "metadata": {},
     "output_type": "execute_result"
    }
   ],
   "source": [
    "sympy.Array([C,y, W, V]).subs({x: 272, g:20323, p: 23, r: 1772})"
   ]
  },
  {
   "cell_type": "code",
   "execution_count": 27,
   "id": "d4686d27-682d-4768-9abc-4d80b300036a",
   "metadata": {},
   "outputs": [
    {
     "data": {
      "text/latex": [
       "$\\displaystyle g^{\\left(r + x\\right) \\bmod \\left(p - 1\\right)} \\bmod p$"
      ],
      "text/plain": [
       "Mod(g**(Mod(r + x, p - 1)), p)"
      ]
     },
     "execution_count": 27,
     "metadata": {},
     "output_type": "execute_result"
    }
   ],
   "source": [
    "sympy.simplify(V)"
   ]
  },
  {
   "cell_type": "code",
   "execution_count": 28,
   "id": "bd949841-110e-467f-9d3c-863ff46d9f97",
   "metadata": {},
   "outputs": [
    {
     "data": {
      "text/latex": [
       "$\\displaystyle \\left(g^{r} \\bmod p\\right) \\left(g^{x} \\bmod p\\right) \\bmod p$"
      ],
      "text/plain": [
       "Mod((Mod(g**r, p))*(Mod(g**x, p)), p)"
      ]
     },
     "execution_count": 28,
     "metadata": {},
     "output_type": "execute_result"
    }
   ],
   "source": [
    "sympy.simplify(W)"
   ]
  },
  {
   "cell_type": "code",
   "execution_count": 34,
   "id": "82dcaa42-04f0-40c0-99fa-95ba3cf9fc7f",
   "metadata": {},
   "outputs": [],
   "source": [
    "k = sympy.symbols(\"k\")"
   ]
  },
  {
   "cell_type": "code",
   "execution_count": 38,
   "id": "070d15f9-0849-4083-a1ea-2e0999df17b4",
   "metadata": {},
   "outputs": [],
   "source": [
    "l = (g**(r+x+(k*(p-1))) % p)"
   ]
  },
  {
   "cell_type": "code",
   "execution_count": 39,
   "id": "0d325315-bf0e-4e1f-b834-0f05cbe2a1fc",
   "metadata": {},
   "outputs": [
    {
     "data": {
      "text/latex": [
       "$\\displaystyle g^{k \\left(p - 1\\right) + r + x} \\bmod p$"
      ],
      "text/plain": [
       "Mod(g**(k*(p - 1) + r + x), p)"
      ]
     },
     "execution_count": 39,
     "metadata": {},
     "output_type": "execute_result"
    }
   ],
   "source": [
    "l"
   ]
  }
 ],
 "metadata": {
  "kernelspec": {
   "display_name": "Python 3 (ipykernel)",
   "language": "python",
   "name": "python3"
  },
  "language_info": {
   "codemirror_mode": {
    "name": "ipython",
    "version": 3
   },
   "file_extension": ".py",
   "mimetype": "text/x-python",
   "name": "python",
   "nbconvert_exporter": "python",
   "pygments_lexer": "ipython3",
   "version": "3.12.4"
  }
 },
 "nbformat": 4,
 "nbformat_minor": 5
}
